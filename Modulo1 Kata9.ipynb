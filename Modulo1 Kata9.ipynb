{
 "cells": [
  {
   "cell_type": "markdown",
   "metadata": {},
   "source": [
    "Ejercicio 1: Trabajar con argumentos en funciones\n",
    "Los argumentos requeridos en las funciones se utilizan cuando las funciones necesitan que esos argumentos funcionen correctamente. En este ejercicio, construirás un informe de combustible que requiere información de varias ubicaciones de combustible en todo el cohete.\n",
    "Comienza por crear una función que necesite tres lecturas de combustible y devuelva un informe:\n",
    "\n"
   ]
  },
  {
   "cell_type": "code",
   "execution_count": 40,
   "metadata": {},
   "outputs": [
    {
     "name": "stdout",
     "output_type": "stream",
     "text": [
      "Reporte de combustible:\n",
      "Promedio de combustible: 45.0%\n",
      "Tanque1: 23%\n",
      "Tanque2: 45%\n",
      "Tanque3: 67%\n"
     ]
    },
    {
     "data": {
      "text/plain": [
       "45.0"
      ]
     },
     "execution_count": 40,
     "metadata": {},
     "output_type": "execute_result"
    }
   ],
   "source": [
    "Gas1 = int (input (\"Introdusca la cantidad de combistible en el tanque 1\"))\n",
    "Gas2 = int (input (\"Introdusca la cantidad de combistible en el tanque 2\"))\n",
    "Gas3 = int (input (\"Introdusca la cantidad de combistible en el tanque 3\"))\n",
    "\n",
    "def reporte (Gas1,Gas2,Gas3):\n",
    " Total_Gas = (Gas1+Gas2+Gas3)/3\n",
    " return f\"\"\"Reporte de combustible:\n",
    "Promedio de combustible: {Total_Gas}%\n",
    "Tanque1: {Gas1}%\n",
    "Tanque2: {Gas2}%\n",
    "Tanque3: {Gas3}%\"\"\"\n",
    "\n",
    "print (reporte(Gas1,Gas2,Gas3))\n",
    "\n",
    "def promedio (values):\n",
    "    total= sum (values)\n",
    "    elementos= len(values)\n",
    "    return total/elementos\n",
    "promedio ([Gas1,Gas2,Gas3])"
   ]
  },
  {
   "cell_type": "code",
   "execution_count": 39,
   "metadata": {},
   "outputs": [
    {
     "name": "stdout",
     "output_type": "stream",
     "text": [
      "Reporte de combustible:\n",
      "Promedio de combustible: 56.0%\n",
      "Tanque1: 34%\n",
      "Tanque2: 56%\n",
      "Tanque3: 78%\n"
     ]
    }
   ],
   "source": [
    "Gas1 = int (input (\"Introdusca la cantidad de combistible en el tanque 1\"))\n",
    "Gas2 = int (input (\"Introdusca la cantidad de combistible en el tanque 2\"))\n",
    "Gas3 = int (input (\"Introdusca la cantidad de combistible en el tanque 3\"))\n",
    "\n",
    "def reporte (Gas1,Gas2,Gas3):\n",
    " return f\"\"\"Reporte de combustible:\n",
    "Promedio de combustible: {promedio([Gas1,Gas2,Gas3])}%\n",
    "Tanque1: {Gas1}%\n",
    "Tanque2: {Gas2}%\n",
    "Tanque3: {Gas3}%\"\"\"\n",
    "\n",
    "def promedio (values):\n",
    "    total= sum (values)\n",
    "    elementos= len(values)\n",
    "    return total/elementos\n",
    "\n",
    "\n",
    "print (reporte(Gas1,Gas2,Gas3))"
   ]
  },
  {
   "cell_type": "markdown",
   "metadata": {},
   "source": [
    "Ejercicio 2: Trabajo con argumentos de palabra clave\n",
    "Ejercicio : Trabajar con argumentos de palabras clave en funciones\n",
    "En este ejercicio, construirás un informe de cohete que requiere varias piezas de información, como el tiempo hasta el destino, el combustible a la izquierda y el nombre del destino. "
   ]
  },
  {
   "cell_type": "code",
   "execution_count": 47,
   "metadata": {},
   "outputs": [
    {
     "name": "stdout",
     "output_type": "stream",
     "text": [
      "\n",
      "    Mision destino                Saturno\n",
      "    Hora de prelanzamiento        14:56:06 Horas\n",
      "    Tiempo del vuelo              1234:56:09 Horas\n",
      "    Porcentage del tanque interno 98 %\n",
      "    Porcentage del tanque externo 78 %\n",
      "    Total de combustible          88.0 %\n",
      "    \n"
     ]
    }
   ],
   "source": [
    "destino=input (\"Introdusca el destino\")\n",
    "hora_de_prelanzamiento= input (\"Introdusca la hora de lanzamiento\")\n",
    "tiempo_de_vuelo=input (\"Introdusca el tiempo de vuelo\")\n",
    "tanque_externo=int (input (\"Introdusca la cantidad de combistible en el tanque externo\"))\n",
    "tanque_interno=int (input (\"Introdusca la cantidad de combistible en el tanque interno\"))\n",
    "\n",
    "\n",
    "def Informe_mision (hora_de_prelanzamiento, tiempo_de_vuelo, destino, tanque_externo, tanque_interno):\n",
    "    Tanques=(tanque_interno+tanque_externo)/2\n",
    "    return f\"\"\"\n",
    "    Mision destino                {destino}\n",
    "    Hora de prelanzamiento        {hora_de_prelanzamiento} Horas\n",
    "    Tiempo del vuelo              {tiempo_de_vuelo} Horas\n",
    "    Porcentage del tanque interno {tanque_interno} %\n",
    "    Porcentage del tanque externo {tanque_externo} %\n",
    "    Total de combustible          {Tanques} %\n",
    "    \"\"\"\n",
    "print (Informe_mision (hora_de_prelanzamiento, tiempo_de_vuelo, destino, tanque_externo, tanque_interno))"
   ]
  }
 ],
 "metadata": {
  "language_info": {
   "name": "python"
  },
  "orig_nbformat": 4
 },
 "nbformat": 4,
 "nbformat_minor": 2
}
