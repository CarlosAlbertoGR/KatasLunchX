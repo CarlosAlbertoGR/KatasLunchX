{
 "cells": [
  {
   "cell_type": "markdown",
   "metadata": {},
   "source": [
    "Ejercicio: Usar listas para almacenar nombres de planetas\n",
    "Las listas permiten almacenar varios valores en una sola variable. Comenzarás un proyecto sobre información planetaria creando una lista de planetas."
   ]
  },
  {
   "cell_type": "code",
   "execution_count": 21,
   "metadata": {},
   "outputs": [
    {
     "name": "stdout",
     "output_type": "stream",
     "text": [
      "La lista tiene  8  planetas\n",
      "La lista tiene  9  planetas el ultimo planeta agregado fue  Pluton\n"
     ]
    }
   ],
   "source": [
    "planets = [\"Mercurio\",\"Venus\",\"Tierra\",\"Marte\",\"Jupiter\",\"Saturno\",\"Urano\",\"Neptuno\"]\n",
    "NumeroPlanetas = len(planets)\n",
    "print(\"La lista tiene \", NumeroPlanetas, \" planetas\")\n",
    "planets.append(\"Pluton\")\n",
    "NumeroPlanetas = len(planets)\n",
    "print(\"La lista tiene \", NumeroPlanetas, \" planetas el ultimo planeta agregado fue \", planets[8])"
   ]
  },
  {
   "cell_type": "markdown",
   "metadata": {},
   "source": [
    "Ejercicio 2: Trabajando con datos de una lista\n",
    "Usar slices para recuperar partes de una lista"
   ]
  },
  {
   "cell_type": "code",
   "execution_count": 20,
   "metadata": {},
   "outputs": [
    {
     "name": "stdout",
     "output_type": "stream",
     "text": [
      "Los planetas mas cercanos que Marte\n",
      "['Mercurio', 'Venus', 'Tierra']\n",
      "Los planetas mas lejanos que Marte\n",
      "Jupiter\n"
     ]
    }
   ],
   "source": [
    "planets = [\"Mercurio\",\"Venus\",\"Tierra\",\"Marte\",\"Jupiter\",\"Saturno\",\"Urano\",\"Neptuno\",\"Pluton\"]\n",
    "intro = input (\"Introdusca el nombre de un planeta iniciando con mayuscula\")\n",
    "Indice = planets.index(intro)\n",
    "print (\"Los planetas mas cercanos que \"+ intro)\n",
    "print(planets[0:Indice])\n",
    "print (\"Los planetas mas lejanos que \"+ intro)\n",
    "print(planets[Indice+1])"
   ]
  }
 ],
 "metadata": {
  "interpreter": {
   "hash": "407318ab8a71c1edb50740ee323cc7307e05568546678b79c25c054004b7234a"
  },
  "kernelspec": {
   "display_name": "Python 3.8.8 ('base')",
   "language": "python",
   "name": "python3"
  },
  "language_info": {
   "codemirror_mode": {
    "name": "ipython",
    "version": 3
   },
   "file_extension": ".py",
   "mimetype": "text/x-python",
   "name": "python",
   "nbconvert_exporter": "python",
   "pygments_lexer": "ipython3",
   "version": "3.8.8"
  },
  "orig_nbformat": 4
 },
 "nbformat": 4,
 "nbformat_minor": 2
}
