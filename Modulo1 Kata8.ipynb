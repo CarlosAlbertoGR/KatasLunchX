{
 "cells": [
  {
   "cell_type": "markdown",
   "metadata": {},
   "source": [
    "Ejercicio: Crear y modificar un diccionario de Python\n",
    "Los diccionarios python te permiten modelar datos más complejos. Los diccionarios son una colección de pares clave/valor, y son muy comunes en los programas Python. Su flexibilidad le permite trabajar dinámicamente con valores relacionados sin tener que crear clases u objetos.\n",
    "\n",
    "Un diccionario se indica en Python mediante el uso de llaves ({ }), con pares clave/valor separados por dos puntos (:). Las claves son literales de cadena y los valores pueden ser de cualquier tipo de datos.{ }:\n",
    "\n",
    "Para este ejercicio, crearás un diccionario que almacene información sobre el planeta Marte"
   ]
  },
  {
   "cell_type": "code",
   "execution_count": 19,
   "metadata": {},
   "outputs": [
    {
     "name": "stdout",
     "output_type": "stream",
     "text": [
      "Marte tiene 2 lunas\n",
      "Marte tiene curcunferencia polar de 6752 KM\n"
     ]
    }
   ],
   "source": [
    "planet = {\n",
    "    \"Nombre\": \"Marte\", \"Lunas\": 2\n",
    "}\n",
    "print(f'{planet[\"Nombre\"]} tiene {planet[\"Lunas\"]} lunas')\n",
    "\n",
    "planet[\"circunferencia (Km)\"]={\n",
    "\"polar\": 6752,\n",
    "\"equatorial\": 6792\n",
    "}\n",
    "print(f'{planet[\"Nombre\"]} tiene curcunferencia polar de {planet[\"circunferencia (Km)\"][\"polar\"]} KM')"
   ]
  },
  {
   "cell_type": "markdown",
   "metadata": {},
   "source": [
    "Ejercicio 2: Programación dinámica con diccionarios\n",
    "Ejercicio: Cálculo de valores\n",
    "En este escenario, calcularás tanto el número total de lunas en el sistema solar como el número promedio de lunas que tiene un planeta."
   ]
  },
  {
   "cell_type": "code",
   "execution_count": 43,
   "metadata": {},
   "outputs": [
    {
     "name": "stdout",
     "output_type": "stream",
     "text": [
      "mercury: 0 Lunas\n",
      "venus: 0 Lunas\n",
      "earth: 1 Lunas\n",
      "mars: 2 Lunas\n",
      "jupiter: 79 Lunas\n",
      "saturn: 82 Lunas\n",
      "uranus: 27 Lunas\n",
      "neptune: 14 Lunas\n",
      "pluto: 5 Lunas\n",
      "haumea: 2 Lunas\n",
      "makemake: 1 Lunas\n",
      "eris: 1 Lunas\n",
      "El total de lunas es  214\n",
      "El promedio de lunas por planeta es de:  17.833333333333332\n"
     ]
    }
   ],
   "source": [
    "Planet_moons = {\n",
    "    'mercury': 0,\n",
    "    'venus': 0,\n",
    "    'earth': 1,\n",
    "    'mars': 2,\n",
    "    'jupiter': 79,\n",
    "    'saturn': 82,\n",
    "    'uranus': 27,\n",
    "    'neptune': 14,\n",
    "    'pluto': 5,\n",
    "    'haumea': 2,\n",
    "    'makemake': 1,\n",
    "    'eris': 1\n",
    "}\n",
    "moons= Planet_moons.values()\n",
    "planets= len(Planet_moons.keys())\n",
    "\n",
    "for key in Planet_moons.keys():\n",
    "    print(f'{key}: {Planet_moons[key]} Lunas')\n",
    "    \n",
    "total_moons=0\n",
    "\n",
    "\n",
    "for value in moons:\n",
    "    total_moons = value + total_moons\n",
    "\n",
    "promedio = total_moons/planets    \n",
    "\n",
    "print (\"El total de lunas es \",total_moons)\n",
    "\n",
    "print (\"El promedio de lunas por planeta es de: \",promedio)"
   ]
  }
 ],
 "metadata": {
  "interpreter": {
   "hash": "407318ab8a71c1edb50740ee323cc7307e05568546678b79c25c054004b7234a"
  },
  "kernelspec": {
   "display_name": "Python 3.8.8 ('base')",
   "language": "python",
   "name": "python3"
  },
  "language_info": {
   "codemirror_mode": {
    "name": "ipython",
    "version": 3
   },
   "file_extension": ".py",
   "mimetype": "text/x-python",
   "name": "python",
   "nbconvert_exporter": "python",
   "pygments_lexer": "ipython3",
   "version": "3.8.8"
  },
  "orig_nbformat": 4
 },
 "nbformat": 4,
 "nbformat_minor": 2
}
