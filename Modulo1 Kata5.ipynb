{
 "cells": [
  {
   "cell_type": "markdown",
   "metadata": {},
   "source": [
    "Exploremos cómo podemos crear un programa que pueda calcular la distancia entre dos planetas. Comenzaremos usando dos distancias de planetas: Tierra (149.597.870 km) y Júpiter (778.547.200 km)."
   ]
  },
  {
   "cell_type": "code",
   "execution_count": 7,
   "metadata": {},
   "outputs": [
    {
     "name": "stdout",
     "output_type": "stream",
     "text": [
      "La distancia entre la Tierra y Jupiter es de 628949330 KM\n",
      "La distancia entre la Tierra y Jupiter es de 390577533.93 Millas\n"
     ]
    }
   ],
   "source": [
    "Planeta1 = 149597870\n",
    "Planeta2 = 778547200\n",
    "\n",
    "Distancia = Planeta2 - Planeta1\n",
    "\n",
    "print (\"La distancia entre la Tierra y Jupiter es de \"+str(Distancia)+\" KM\")\n",
    "\n",
    "Distancia2 = Distancia * 0.621\n",
    "\n",
    "print (\"La distancia entre la Tierra y Jupiter es de \"+str(Distancia2)+\" Millas\")"
   ]
  },
  {
   "cell_type": "markdown",
   "metadata": {},
   "source": [
    "Crear una aplicación para trabajar con números y entrada de usuario\n",
    "Con frecuencia, deberás convertir los valores de cadena en números para realizar correctamente diferentes operaciones o determinar el valor absoluto de un número.\n",
    "\n",
    "Para crear nuestra aplicación, queremos leer la distancia del sol para dos planetas, y luego mostrar la distancia entre los planetas. Haremos esto usando input para leer los valores, int para convertir a entero y luego abs para convertir el resultado en su valor absoluto."
   ]
  },
  {
   "cell_type": "code",
   "execution_count": 8,
   "metadata": {},
   "outputs": [
    {
     "name": "stdout",
     "output_type": "stream",
     "text": [
      "Tabla de distancias en Km de los planetas al sol\n",
      "Mercurio  57900000\n",
      "Venus\t  108200000\n",
      "Tierra\t  149600000\n",
      "Marte\t  227900000\n",
      "Júpiter\t  778600000\n",
      "Saturno\t  1433500000\n",
      "Urano\t  2872500000\n",
      "Neptuno\t  4495100000\n",
      "La distancia entre los planetas es de 2814600000 KM\n",
      "La distancia entre los planetas es de 1747866600.0 Millas\n"
     ]
    }
   ],
   "source": [
    "print (\"Tabla de distancias en Km de los planetas al sol\")\n",
    "print (\"Mercurio  57900000\")\n",
    "print (\"Venus\t  108200000\")\n",
    "print (\"Tierra\t  149600000\")\n",
    "print (\"Marte\t  227900000\")\n",
    "print (\"Júpiter\t  778600000\")\n",
    "print (\"Saturno\t  1433500000\")\n",
    "print (\"Urano\t  2872500000\")\n",
    "print (\"Neptuno\t  4495100000\")\n",
    "\n",
    "intro = input (\"Este programa muetra la distancia que existe entre planetas \")\n",
    "\n",
    "Planeta1 = int (input (\"Introdusca la distancia del primer planeta\"))\n",
    "Planeta2 = int (input (\"Introdusca la distancia del segundo planeta\"))\n",
    "\n",
    "Distancia = Planeta2 - Planeta1\n",
    "\n",
    "print (\"La distancia entre los planetas es de \"+str(Distancia)+\" KM\")\n",
    "\n",
    "Distancia2 = Distancia * 0.621\n",
    "\n",
    "print (\"La distancia entre los planetas es de \"+str(Distancia2)+\" Millas\")"
   ]
  }
 ],
 "metadata": {
  "interpreter": {
   "hash": "678016f98d5c903ec0a18e255b5fec898077ad2857c84cb65e93109e9fc4db9d"
  },
  "kernelspec": {
   "display_name": "Python 3.10.2 64-bit",
   "language": "python",
   "name": "python3"
  },
  "language_info": {
   "codemirror_mode": {
    "name": "ipython",
    "version": 3
   },
   "file_extension": ".py",
   "mimetype": "text/x-python",
   "name": "python",
   "nbconvert_exporter": "python",
   "pygments_lexer": "ipython3",
   "version": "3.10.2"
  },
  "orig_nbformat": 4
 },
 "nbformat": 4,
 "nbformat_minor": 2
}
